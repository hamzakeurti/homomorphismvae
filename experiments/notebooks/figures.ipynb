{
 "cells": [
  {
   "cell_type": "markdown",
   "source": [
    "# TODO\n",
    "Produce figures from different trainings:\n",
    "* Reconstruction: x1,x2, and x1,x2_hat\n",
    "* Latent space training evolution\n",
    "* Evolution of group representation"
   ],
   "metadata": {}
  },
  {
   "cell_type": "code",
   "execution_count": 53,
   "source": [
    "import os\n",
    "os.chdir('/home/hamza/projects/displacementae')\n",
    "import __init__\n",
    "from experiments import train_utils as tu\n",
    "import torch\n",
    "from utils import save\n",
    "from ipywidgets import interact, interactive, fixed, interact_manual\n",
    "import ipywidgets as widgets\n",
    "import matplotlib.pyplot as plt\n",
    "import numpy as np\n",
    "import json\n",
    "from utils import test"
   ],
   "outputs": [],
   "metadata": {}
  },
  {
   "cell_type": "code",
   "execution_count": 2,
   "source": [
    "save_dir = '/home/hamza/projects/displacementae/saved/armeye/adap_vae'"
   ],
   "outputs": [],
   "metadata": {}
  },
  {
   "cell_type": "code",
   "execution_count": 4,
   "source": [
    "class Config:\n",
    "    def __init__(self):\n",
    "        pass\n",
    "def load_config(id):\n",
    "    config = Config()\n",
    "    with open(os.path.join(save_dir,str(id),'config.json'),'r') as f:\n",
    "        config.__dict__ = json.load(f)\n",
    "    return config\n"
   ],
   "outputs": [],
   "metadata": {}
  },
  {
   "cell_type": "code",
   "execution_count": 38,
   "source": [
    "id = 0\n",
    "config = load_config(0)\n",
    "dataset, dataloader = tu.setup_data(config)\n"
   ],
   "outputs": [],
   "metadata": {}
  },
  {
   "cell_type": "code",
   "execution_count": 15,
   "source": [
    "exp_dir = os.path.join(save_dir,str(id))\n",
    "epochs = [int(a.split('_')[1][:-2]) for a in os.listdir(exp_dir) if a[:4] == \"dist\"]"
   ],
   "outputs": [],
   "metadata": {}
  },
  {
   "cell_type": "code",
   "execution_count": 17,
   "source": [
    "\n",
    "f = f'rot_repr_{0}'\n",
    "save.load_object(exp_dir,f)"
   ],
   "outputs": [
    {
     "output_type": "execute_result",
     "data": {
      "text/plain": [
       "Parameter containing:\n",
       "tensor([0.1000], device='cuda:0', dtype=torch.float64, requires_grad=True)"
      ]
     },
     "metadata": {},
     "execution_count": 17
    }
   ],
   "metadata": {}
  },
  {
   "cell_type": "code",
   "execution_count": 30,
   "source": [
    "def get_repr(save_dir=save_dir,id=id,grp=0):\n",
    "    \"\"\"\n",
    "    grp either 0 or 1, correspond to rotational 0 or translational 1\n",
    "    \"\"\"\n",
    "    if grp==0:\n",
    "        filename = \"rot_repr_\"\n",
    "    if grp==1:\n",
    "        filename = \"trans_repr_\"\n",
    "    exp_dir = os.path.join(save_dir,str(id))\n",
    "    epochs = [int(a.split('_')[1][:-2]) for a in os.listdir(exp_dir) if a[:4] == \"dist\"]\n",
    "    ret = []\n",
    "    dir_files = os.listdir(exp_dir)\n",
    "    for e in epochs:\n",
    "        ret.append(save.load_object(exp_dir,filename+str(e)))\n",
    "    return epochs,torch.cat(ret)\n"
   ],
   "outputs": [],
   "metadata": {}
  },
  {
   "cell_type": "code",
   "execution_count": 32,
   "source": [
    "epochs, repr = get_repr()"
   ],
   "outputs": [],
   "metadata": {}
  },
  {
   "cell_type": "code",
   "execution_count": 39,
   "source": [
    "dataset.joint_steps"
   ],
   "outputs": [
    {
     "output_type": "execute_result",
     "data": {
      "text/plain": [
       "tensor([0.2094, 0.2094, 0.2094], dtype=torch.float64)"
      ]
     },
     "metadata": {},
     "execution_count": 39
    }
   ],
   "metadata": {}
  },
  {
   "cell_type": "code",
   "execution_count": 48,
   "source": [
    "fig = plt.figure()\n",
    "plt.plot(epochs,repr.cpu().data.numpy(),label='internal rotation step')\n",
    "plt.axhline(dataset.joint_steps[0],color='r',linestyle='--',label='joint rotation step')\n",
    "plt.ylabel('angle')\n",
    "plt.xlabel('epoch')\n",
    "plt.legend()\n",
    "figname = 'repr_evolution.jpg'\n",
    "fig.savefig(os.path.join(exp_dir,figname))"
   ],
   "outputs": [
    {
     "output_type": "display_data",
     "data": {
      "text/plain": [
       "<Figure size 432x288 with 1 Axes>"
      ],
      "image/png": "[encoded data removed]"
     },
     "metadata": {
      "needs_background": "light"
     }
    }
   ],
   "metadata": {}
  },
  {
   "cell_type": "code",
   "execution_count": 55,
   "source": [
    "@interact\n",
    "def load_n_plot(i=(0,1,1),j=(0,200,1)):\n",
    "    j_list = [2*k for k in range(5)] + [10*k for k in range(200)]\n",
    "    z,angles = test.load_distribs(save_dir,config.id,j_list[j])\n",
    "    plt.scatter(z[:,2*i],z[:,2*i+1],c=angles[:,i+1])\n",
    "    plt.xlim([-5,5])\n",
    "    plt.ylim([-5,5])\n",
    "    clb = plt.colorbar()\n",
    "    clb.ax.set_title('cos( joint angle )')\n",
    "    plt.title(f'Learned latent, epoch {j}')"
   ],
   "outputs": [
    {
     "output_type": "display_data",
     "data": {
      "text/plain": [
       "interactive(children=(IntSlider(value=0, description='i', max=1), IntSlider(value=100, description='j', max=20…"
      ],
      "application/vnd.jupyter.widget-view+json": {
       "version_major": 2,
       "version_minor": 0,
       "model_id": "b5119bf9b007487aa24a2ffe4a84990c"
      }
     },
     "metadata": {}
    }
   ],
   "metadata": {}
  },
  {
   "cell_type": "code",
   "execution_count": null,
   "source": [],
   "outputs": [],
   "metadata": {}
  },
  {
   "cell_type": "code",
   "execution_count": 74,
   "source": [
    "batch = next(iter(dataloader))"
   ],
   "outputs": [],
   "metadata": {}
  },
  {
   "cell_type": "code",
   "execution_count": 83,
   "source": [
    "@interact\n",
    "def plot(i=(0,29,1)):\n",
    "    fig,axis = plt.subplots(1,2,figsize=(5,10))\n",
    "    axis[0].imshow(np.moveaxis(batch[0][i].numpy(),0,-1))\n",
    "    axis[1].imshow(np.moveaxis(batch[2][i].numpy(),0,-1))"
   ],
   "outputs": [
    {
     "output_type": "display_data",
     "data": {
      "text/plain": [
       "interactive(children=(IntSlider(value=14, description='i', max=29), Output()), _dom_classes=('widget-interact'…"
      ],
      "application/vnd.jupyter.widget-view+json": {
       "version_major": 2,
       "version_minor": 0,
       "model_id": "afe9717345484b0c85480a789143b2ce"
      }
     },
     "metadata": {}
    }
   ],
   "metadata": {}
  },
  {
   "cell_type": "code",
   "execution_count": 85,
   "source": [
    "@interact\n",
    "def plot(i=(0,29,1),j=(0,29,1),k=(0,29,1)):\n",
    "    idx = dataset.get_index([i,j,k])\n",
    "    plt.imshow(np.moveaxis(dataset[idx][0],0,-1))"
   ],
   "outputs": [
    {
     "output_type": "display_data",
     "data": {
      "text/plain": [
       "interactive(children=(IntSlider(value=14, description='i', max=29), IntSlider(value=14, description='j', max=2…"
      ],
      "application/vnd.jupyter.widget-view+json": {
       "version_major": 2,
       "version_minor": 0,
       "model_id": "4897ce88a1524f70974d5d2a6b78f5c2"
      }
     },
     "metadata": {}
    }
   ],
   "metadata": {}
  },
  {
   "cell_type": "code",
   "execution_count": 73,
   "source": [
    "config.__dict__['shuffle'] = False\n",
    "dataset, dataloader = tu.setup_data(config)\n"
   ],
   "outputs": [],
   "metadata": {}
  },
  {
   "cell_type": "code",
   "execution_count": 81,
   "source": [
    "dataloader.sampler.get_index(3)"
   ],
   "outputs": [
    {
     "output_type": "execute_result",
     "data": {
      "text/plain": [
       "2714"
      ]
     },
     "metadata": {},
     "execution_count": 81
    }
   ],
   "metadata": {}
  },
  {
   "cell_type": "code",
   "execution_count": null,
   "source": [],
   "outputs": [],
   "metadata": {}
  }
 ],
 "metadata": {
  "orig_nbformat": 4,
  "kernelspec": {
   "name": "python3",
   "display_name": "Python 3",
   "language": "python"
  },
  "language_info": {
   "name": "python",
   "version": "3.7.9",
   "mimetype": "text/x-python",
   "codemirror_mode": {
    "name": "ipython",
    "version": 3
   },
   "pygments_lexer": "ipython3",
   "nbconvert_exporter": "python",
   "file_extension": ".py"
  }
 },
 "nbformat": 4,
 "nbformat_minor": 2
}