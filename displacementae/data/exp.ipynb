{
 "cells": [
  {
   "cell_type": "code",
   "execution_count": 1,
   "metadata": {},
   "outputs": [],
   "source": [
    "import os,sys\n",
    "\n",
    "curr_dir = os.path.basename(os.path.abspath(os.curdir))\n",
    "# See __init__.py in folder \"toy_example\" for an explanation.\n",
    "if curr_dir == 'data' and '..' not in sys.path:\n",
    "    sys.path.insert(0, '..')\n",
    "\n",
    "\n",
    "\n",
    "import __init__\n",
    "\n",
    "import h5py\n",
    "import numpy as np\n",
    "import matplotlib.pyplot as plt\n",
    "\n",
    "from data.dsprites import DspritesDataset\n",
    "\n"
   ]
  },
  {
   "cell_type": "code",
   "execution_count": 2,
   "metadata": {},
   "outputs": [],
   "source": [
    "root = \"D:\\\\Projects\\\\PhD\\\\datasets\\\\dsprites\"\n",
    "\n",
    "dhandler = DspritesDataset(root, rseed=None, fixed_in_sampling=[],\n",
    "                 fixed_values=[], fixed_in_action=[], transitions_on=True,\n",
    "                 n_transitions= 1, action_range = [-1, 1],\n",
    "                 num_train=200,\n",
    "                 num_val= 30, cyclic_trans = False,\n",
    "                 dist= 'uniform',\n",
    "                 return_integer_actions= False,\n",
    "                 rotate_actions= 0,\n",
    "                 normalize_actions=True)"
   ]
  },
  {
   "cell_type": "code",
   "execution_count": 14,
   "metadata": {},
   "outputs": [],
   "source": [
    "save_dir = \"D:\\\\Projects\\\\PhD\\\\com\\\\figs\\\\temp\"\n",
    "# os.mkdir(save_dir)\n"
   ]
  },
  {
   "cell_type": "code",
   "execution_count": 17,
   "metadata": {},
   "outputs": [
    {
     "data": {
      "image/png": "[encoded data removed]",
      "text/plain": [
       "<Figure size 432x288 with 1 Axes>"
      ]
     },
     "metadata": {
      "needs_background": "light"
     },
     "output_type": "display_data"
    }
   ],
   "source": [
    "vals = [[10,3],[18,22],[8,15],[5,5],[10,5],[3,13]]\n",
    "for val in vals:\n",
    "    i = dhandler._latents_2_index(np.array([0,2,5,0,val[0],val[1]]))\n",
    "    plt.imshow(dhandler._images[i], cmap='gray')\n",
    "    plt.axis('off')\n",
    "    plt.savefig(os.path.join(save_dir,f\"[{val[0]},{val[1]}].pdf\"))\n"
   ]
  },
  {
   "cell_type": "code",
   "execution_count": null,
   "metadata": {},
   "outputs": [],
   "source": [
    "dhandler."
   ]
  },
  {
   "cell_type": "code",
   "execution_count": null,
   "metadata": {},
   "outputs": [],
   "source": []
  }
 ],
 "metadata": {
  "kernelspec": {
   "display_name": "hbase",
   "language": "python",
   "name": "python3"
  },
  "language_info": {
   "codemirror_mode": {
    "name": "ipython",
    "version": 3
   },
   "file_extension": ".py",
   "mimetype": "text/x-python",
   "name": "python",
   "nbconvert_exporter": "python",
   "pygments_lexer": "ipython3",
   "version": "3.8.5"
  },
  "orig_nbformat": 4,
  "vscode": {
   "interpreter": {
    "hash": "869b92f5a4a3389e70893dc48d4c9a8edfe4b60babad37c8bcdc00bd389b2033"
   }
  }
 },
 "nbformat": 4,
 "nbformat_minor": 2
}
