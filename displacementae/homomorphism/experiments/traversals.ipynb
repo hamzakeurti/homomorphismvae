{
 "cells": [
  {
   "cell_type": "code",
   "execution_count": 1,
   "metadata": {},
   "outputs": [],
   "source": [
    "import os\n",
    "import sys\n",
    "sys.path.append(os.curdir)\n",
    "import json\n",
    "\n",
    "import numpy as np\n",
    "import torch\n",
    "\n",
    "from ipywidgets import interact, interactive, fixed, interact_manual\n",
    "import ipywidgets as widgets"
   ]
  },
  {
   "cell_type": "code",
   "execution_count": null,
   "metadata": {},
   "outputs": [],
   "source": [
    "import os\n",
    "import sys\n",
    "sys.path.append(os.curdir)\n",
    "import json\n",
    "\n",
    "import numpy as np\n",
    "import torch\n",
    "\n",
    "from ipywidgets import interact, interactive, fixed, interact_manual\n",
    "import ipywidgets as widgets"
   ]
  },
  {
   "cell_type": "code",
   "execution_count": 2,
   "metadata": {},
   "outputs": [
    {
     "data": {
      "text/plain": [
       "'/lustre/home/hkeurti/projects/displacementae/displacementae'"
      ]
     },
     "execution_count": 2,
     "metadata": {},
     "output_type": "execute_result"
    }
   ],
   "source": [
    "os.path.abspath(os.curdir)"
   ]
  },
  {
   "cell_type": "code",
   "execution_count": 3,
   "metadata": {},
   "outputs": [],
   "source": [
    "from displacementae.networks.multistep_autoencoder import MultistepAutoencoder\n",
    "from displacementae.data.obj3d_dataset import Obj3dDataset\n",
    "import displacementae.utils.checkpoint as ckpt\n",
    "\n",
    "import displacementae.networks.network_utils as net_utils\n",
    "import displacementae.data.data_utils as data_utils\n",
    "from displacementae.grouprepr.representation_utils import Representation\n",
    "\n",
    "from argparse import Namespace"
   ]
  },
  {
   "cell_type": "code",
   "execution_count": 79,
   "metadata": {},
   "outputs": [
    {
     "data": {
      "text/plain": [
       "True"
      ]
     },
     "execution_count": 79,
     "metadata": {},
     "output_type": "execute_result"
    }
   ],
   "source": [
    "exp_dir = \"./homomorphism/out/hyperparam_search/search_2022-10-11_12-47-10/sim_20221011124710_3\"\n",
    "os.path.exists(exp_dir)\n",
    "config_file = os.path.join(exp_dir, \"config.json\")\n",
    "os.path.exists(config_file)\n"
   ]
  },
  {
   "cell_type": "code",
   "execution_count": 80,
   "metadata": {},
   "outputs": [],
   "source": [
    "with open(config_file,'r') as f:\n",
    "    data = json.load(f)\n",
    "    config = Namespace(**data)\n",
    "config.num_train=200\n",
    "device = 'cuda' if config.use_cuda else 'cpu'\n"
   ]
  },
  {
   "cell_type": "code",
   "execution_count": null,
   "metadata": {},
   "outputs": [],
   "source": []
  },
  {
   "cell_type": "code",
   "execution_count": 81,
   "metadata": {},
   "outputs": [],
   "source": [
    "dhandler,_ = data_utils.setup_data(config,mode='homomorphism')\n",
    "net = net_utils.setup_network(config,dhandler,mode='homomorphism',device=device,representation=Representation.BLOCK_MLP)"
   ]
  },
  {
   "cell_type": "code",
   "execution_count": 82,
   "metadata": {},
   "outputs": [
    {
     "data": {
      "text/plain": [
       "MultistepAutoencoder(\n",
       "  (encoder): CNN(\n",
       "    (_conv_layers): ModuleList(\n",
       "      (0): Conv2d(3, 64, kernel_size=(6, 6), stride=(2, 2))\n",
       "      (1): Conv2d(64, 64, kernel_size=(4, 4), stride=(2, 2))\n",
       "      (2): Conv2d(64, 64, kernel_size=(4, 4), stride=(1, 1))\n",
       "      (3): Conv2d(64, 64, kernel_size=(4, 4), stride=(1, 1))\n",
       "    )\n",
       "    (_lin_layers): ModuleList(\n",
       "      (0): Linear(in_features=6400, out_features=512, bias=True)\n",
       "      (1): Linear(in_features=512, out_features=11, bias=True)\n",
       "    )\n",
       "  )\n",
       "  (decoder): TransposedCNN(\n",
       "    (_conv_layers): ModuleList(\n",
       "      (0): ConvTranspose2d(64, 64, kernel_size=(4, 4), stride=(1, 1))\n",
       "      (1): ConvTranspose2d(64, 64, kernel_size=(4, 4), stride=(1, 1))\n",
       "      (2): ConvTranspose2d(64, 64, kernel_size=(4, 4), stride=(2, 2))\n",
       "      (3): ConvTranspose2d(64, 3, kernel_size=(6, 6), stride=(2, 2))\n",
       "    )\n",
       "    (_lin_layers): ModuleList(\n",
       "      (0): Linear(in_features=11, out_features=512, bias=True)\n",
       "      (1): Linear(in_features=512, out_features=6400, bias=True)\n",
       "    )\n",
       "  )\n",
       "  (grp_morphism): BlockMLPRepresentation(\n",
       "    (varphi): VarPhi(\n",
       "      (net): Identity()\n",
       "    )\n",
       "    (subreps): ModuleList(\n",
       "      (0): MLPRepresentation(\n",
       "        (varphi): VarPhi(\n",
       "          (net): Identity()\n",
       "        )\n",
       "        (net): MLP(\n",
       "          (seq): Sequential(\n",
       "            (0): Linear(in_features=4, out_features=64, bias=True)\n",
       "            (1): LayerNorm((64,), eps=1e-05, elementwise_affine=True)\n",
       "            (2): ReLU()\n",
       "            (3): Linear(in_features=64, out_features=64, bias=True)\n",
       "            (4): LayerNorm((64,), eps=1e-05, elementwise_affine=True)\n",
       "            (5): ReLU()\n",
       "            (6): Linear(in_features=64, out_features=4, bias=True)\n",
       "          )\n",
       "        )\n",
       "      )\n",
       "      (1): MLPRepresentation(\n",
       "        (varphi): VarPhi(\n",
       "          (net): Identity()\n",
       "        )\n",
       "        (net): MLP(\n",
       "          (seq): Sequential(\n",
       "            (0): Linear(in_features=4, out_features=64, bias=True)\n",
       "            (1): LayerNorm((64,), eps=1e-05, elementwise_affine=True)\n",
       "            (2): ReLU()\n",
       "            (3): Linear(in_features=64, out_features=64, bias=True)\n",
       "            (4): LayerNorm((64,), eps=1e-05, elementwise_affine=True)\n",
       "            (5): ReLU()\n",
       "            (6): Linear(in_features=64, out_features=9, bias=True)\n",
       "          )\n",
       "        )\n",
       "      )\n",
       "      (2): MLPRepresentation(\n",
       "        (varphi): VarPhi(\n",
       "          (net): Identity()\n",
       "        )\n",
       "        (net): MLP(\n",
       "          (seq): Sequential(\n",
       "            (0): Linear(in_features=4, out_features=64, bias=True)\n",
       "            (1): LayerNorm((64,), eps=1e-05, elementwise_affine=True)\n",
       "            (2): ReLU()\n",
       "            (3): Linear(in_features=64, out_features=64, bias=True)\n",
       "            (4): LayerNorm((64,), eps=1e-05, elementwise_affine=True)\n",
       "            (5): ReLU()\n",
       "            (6): Linear(in_features=64, out_features=9, bias=True)\n",
       "          )\n",
       "        )\n",
       "      )\n",
       "      (3): MLPRepresentation(\n",
       "        (varphi): VarPhi(\n",
       "          (net): Identity()\n",
       "        )\n",
       "        (net): MLP(\n",
       "          (seq): Sequential(\n",
       "            (0): Linear(in_features=4, out_features=64, bias=True)\n",
       "            (1): LayerNorm((64,), eps=1e-05, elementwise_affine=True)\n",
       "            (2): ReLU()\n",
       "            (3): Linear(in_features=64, out_features=64, bias=True)\n",
       "            (4): LayerNorm((64,), eps=1e-05, elementwise_affine=True)\n",
       "            (5): ReLU()\n",
       "            (6): Linear(in_features=64, out_features=9, bias=True)\n",
       "          )\n",
       "        )\n",
       "      )\n",
       "    )\n",
       "  )\n",
       ")"
      ]
     },
     "execution_count": 82,
     "metadata": {},
     "output_type": "execute_result"
    }
   ],
   "source": [
    "net,_,_,_ = ckpt.load_checkpoint(net,optimizer=None,save_path=os.path.join(exp_dir,'checkpoint'))\n",
    "net.eval()"
   ]
  },
  {
   "cell_type": "code",
   "execution_count": 83,
   "metadata": {},
   "outputs": [],
   "source": [
    "r = dhandler.rots_range[0]\n",
    "c = dhandler.attributes_dict['n_colors']\n",
    "all_acts = np.array(np.meshgrid(np.linspace(-r,r,num=11),np.linspace(-r,r,num=11),np.linspace(-r,r,num=11),np.arange(c))).T.reshape(-1,4)\n",
    "device = 'cuda' if config.use_cuda else 'cpu'\n",
    "a = torch.Tensor(all_acts).to(device)"
   ]
  },
  {
   "cell_type": "code",
   "execution_count": 84,
   "metadata": {},
   "outputs": [
    {
     "data": {
      "text/plain": [
       "True"
      ]
     },
     "execution_count": 84,
     "metadata": {},
     "output_type": "execute_result"
    }
   ],
   "source": [
    "config.exponential_map"
   ]
  },
  {
   "cell_type": "code",
   "execution_count": 85,
   "metadata": {},
   "outputs": [],
   "source": [
    "with torch.no_grad():\n",
    "    A = net.grp_morphism(a,use_exponential=False)\n",
    "    vecs = A.cpu().numpy().reshape(A.shape[0],-1)"
   ]
  },
  {
   "cell_type": "code",
   "execution_count": 86,
   "metadata": {},
   "outputs": [],
   "source": [
    "from sklearn import decomposition\n",
    "import matplotlib.pyplot as plt"
   ]
  },
  {
   "cell_type": "code",
   "execution_count": 91,
   "metadata": {},
   "outputs": [
    {
     "data": {
      "image/png": "[encoded data removed]",
      "text/plain": [
       "<Figure size 640x480 with 1 Axes>"
      ]
     },
     "metadata": {},
     "output_type": "display_data"
    }
   ],
   "source": [
    "pca = decomposition.PCA()\n",
    "pca.fit(vecs)\n",
    "plt.plot(pca.explained_variance_ratio_[:10])\n",
    "comp = pca.components_[:4]"
   ]
  },
  {
   "cell_type": "code",
   "execution_count": 92,
   "metadata": {},
   "outputs": [
    {
     "data": {
      "image/png": "[encoded data removed]",
      "text/plain": [
       "<Figure size 640x480 with 1 Axes>"
      ]
     },
     "metadata": {},
     "output_type": "display_data"
    }
   ],
   "source": [
    "plt.imshow(np.moveaxis(dhandler[0][0][0],0,-1))\n",
    "img = dhandler[0][0][0][None,...]"
   ]
  },
  {
   "cell_type": "code",
   "execution_count": 149,
   "metadata": {},
   "outputs": [
    {
     "data": {
      "application/vnd.jupyter.widget-view+json": {
       "model_id": "a4adbb9f7b834cd1b96d20286e8519c2",
       "version_major": 2,
       "version_minor": 0
      },
      "text/plain": [
       "interactive(children=(FloatSlider(value=0.0, description='t1', max=10.0, min=-10.0), FloatSlider(value=0.0, de…"
      ]
     },
     "metadata": {},
     "output_type": "display_data"
    }
   ],
   "source": [
    "@interact\n",
    "def plot(t1=(-10,10,0.1),t2=(-10,10,0.1),t3=(-10,10,0.1),t4=(-10,10,0.1)):\n",
    "    t = np.array([t1,t2,t3,t4])\n",
    "    action_alg = (t@comp).reshape(1,11,11)\n",
    "\n",
    "    with torch.no_grad():\n",
    "        x = torch.Tensor(img).to(device)\n",
    "        z,_,_ = net.encode(x)\n",
    "        a = torch.Tensor(action_alg).to(device)\n",
    "        a = torch.matrix_exp(a)\n",
    "        z2 = torch.einsum(\"...jk,...k->...j\",a,z)[None,...]\n",
    "        xh = torch.sigmoid(net.decode(z2))[0,0]\n",
    "\n",
    "\n",
    "    plt.imshow(np.moveaxis(xh.cpu().numpy(),0,-1))"
   ]
  },
  {
   "cell_type": "code",
   "execution_count": 122,
   "metadata": {},
   "outputs": [
    {
     "data": {
      "text/plain": [
       "<matplotlib.image.AxesImage at 0x14f21f8d5370>"
      ]
     },
     "execution_count": 122,
     "metadata": {},
     "output_type": "execute_result"
    },
    {
     "data": {
      "image/png": "[encoded data removed]",
      "text/plain": [
       "<Figure size 640x480 with 1 Axes>"
      ]
     },
     "metadata": {},
     "output_type": "display_data"
    }
   ],
   "source": [
    "plt.imshow(comp[2].reshape(11,11),cmap='bwr',vmin=-0.5,vmax=0.5)"
   ]
  },
  {
   "cell_type": "code",
   "execution_count": 150,
   "metadata": {},
   "outputs": [],
   "source": [
    "fig_dir = os.path.join(exp_dir,'figs')"
   ]
  },
  {
   "cell_type": "code",
   "execution_count": 153,
   "metadata": {},
   "outputs": [
    {
     "name": "stderr",
     "output_type": "stream",
     "text": [
      "/var/lib/condor/execute/dir_855809/ipykernel_860674/3159381298.py:12: UserWarning: An output with one or more elements was resized since it had shape [2, 11, 11], which does not match the required output shape [1, 2, 11, 11]. This behavior is deprecated, and in a future PyTorch release outputs will not be resized unless they have zero elements. You can explicitly reuse an out tensor t by resizing it, inplace, to zero elements with t.resize_(0). (Triggered internally at  /opt/conda/conda-bld/pytorch_1659484810403/work/aten/src/ATen/native/Resize.cpp:17.)\n",
      "  a = torch.matrix_exp(a)\n"
     ]
    }
   ],
   "source": [
    "for i in range(4):\n",
    "    os.makedirs(os.path.join(fig_dir,f'{i}'))\n",
    "    t = np.zeros([11,4])\n",
    "    t[:,i] = np.arange(-5,6)\n",
    "\n",
    "    action_alg = (t@comp).reshape(-1,11,11)\n",
    "\n",
    "    with torch.no_grad():\n",
    "        x = torch.Tensor(img).to(device)\n",
    "        z,_,_ = net.encode(x)\n",
    "        a = torch.Tensor(action_alg).to(device)\n",
    "        a = torch.matrix_exp(a)\n",
    "        z2 = torch.einsum(\"...jk,...k->...j\",a,z)[:,None,...]\n",
    "        xh = torch.sigmoid(net.decode(z2))\n",
    "    for j in range(xh.shape[0]):\n",
    "        fig, ax = plt.subplots(figsize=(4,4))\n",
    "        ax.imshow(np.moveaxis(xh[j,0].cpu().numpy(),0,-1))\n",
    "        ax.axis('off')\n",
    "        plt.savefig(os.path.join(fig_dir,f'{i}/{j}.pdf'))\n",
    "        plt.close()"
   ]
  },
  {
   "cell_type": "code",
   "execution_count": 141,
   "metadata": {},
   "outputs": [
    {
     "data": {
      "text/plain": [
       "torch.Size([11, 1, 3, 72, 72])"
      ]
     },
     "execution_count": 141,
     "metadata": {},
     "output_type": "execute_result"
    }
   ],
   "source": [
    "xh.shape"
   ]
  },
  {
   "cell_type": "code",
   "execution_count": 137,
   "metadata": {},
   "outputs": [
    {
     "data": {
      "text/plain": [
       "torch.Size([11, 11, 11])"
      ]
     },
     "execution_count": 137,
     "metadata": {},
     "output_type": "execute_result"
    }
   ],
   "source": [
    "a.shape"
   ]
  },
  {
   "cell_type": "code",
   "execution_count": null,
   "metadata": {},
   "outputs": [],
   "source": []
  },
  {
   "cell_type": "code",
   "execution_count": 50,
   "metadata": {},
   "outputs": [
    {
     "data": {
      "text/plain": [
       "array([[[-0.8 , -0.8 , -0.8 , ..., -0.8 , -0.8 , -0.8 ],\n",
       "        [-0.64, -0.64, -0.64, ..., -0.64, -0.64, -0.64],\n",
       "        [-0.48, -0.48, -0.48, ..., -0.48, -0.48, -0.48],\n",
       "        ...,\n",
       "        [ 0.48,  0.48,  0.48, ...,  0.48,  0.48,  0.48],\n",
       "        [ 0.64,  0.64,  0.64, ...,  0.64,  0.64,  0.64],\n",
       "        [ 0.8 ,  0.8 ,  0.8 , ...,  0.8 ,  0.8 ,  0.8 ]],\n",
       "\n",
       "       [[-0.8 , -0.8 , -0.8 , ..., -0.8 , -0.8 , -0.8 ],\n",
       "        [-0.64, -0.64, -0.64, ..., -0.64, -0.64, -0.64],\n",
       "        [-0.48, -0.48, -0.48, ..., -0.48, -0.48, -0.48],\n",
       "        ...,\n",
       "        [ 0.48,  0.48,  0.48, ...,  0.48,  0.48,  0.48],\n",
       "        [ 0.64,  0.64,  0.64, ...,  0.64,  0.64,  0.64],\n",
       "        [ 0.8 ,  0.8 ,  0.8 , ...,  0.8 ,  0.8 ,  0.8 ]],\n",
       "\n",
       "       [[-0.8 , -0.8 , -0.8 , ..., -0.8 , -0.8 , -0.8 ],\n",
       "        [-0.64, -0.64, -0.64, ..., -0.64, -0.64, -0.64],\n",
       "        [-0.48, -0.48, -0.48, ..., -0.48, -0.48, -0.48],\n",
       "        ...,\n",
       "        [ 0.48,  0.48,  0.48, ...,  0.48,  0.48,  0.48],\n",
       "        [ 0.64,  0.64,  0.64, ...,  0.64,  0.64,  0.64],\n",
       "        [ 0.8 ,  0.8 ,  0.8 , ...,  0.8 ,  0.8 ,  0.8 ]],\n",
       "\n",
       "       ...,\n",
       "\n",
       "       [[-0.8 , -0.8 , -0.8 , ..., -0.8 , -0.8 , -0.8 ],\n",
       "        [-0.64, -0.64, -0.64, ..., -0.64, -0.64, -0.64],\n",
       "        [-0.48, -0.48, -0.48, ..., -0.48, -0.48, -0.48],\n",
       "        ...,\n",
       "        [ 0.48,  0.48,  0.48, ...,  0.48,  0.48,  0.48],\n",
       "        [ 0.64,  0.64,  0.64, ...,  0.64,  0.64,  0.64],\n",
       "        [ 0.8 ,  0.8 ,  0.8 , ...,  0.8 ,  0.8 ,  0.8 ]],\n",
       "\n",
       "       [[-0.8 , -0.8 , -0.8 , ..., -0.8 , -0.8 , -0.8 ],\n",
       "        [-0.64, -0.64, -0.64, ..., -0.64, -0.64, -0.64],\n",
       "        [-0.48, -0.48, -0.48, ..., -0.48, -0.48, -0.48],\n",
       "        ...,\n",
       "        [ 0.48,  0.48,  0.48, ...,  0.48,  0.48,  0.48],\n",
       "        [ 0.64,  0.64,  0.64, ...,  0.64,  0.64,  0.64],\n",
       "        [ 0.8 ,  0.8 ,  0.8 , ...,  0.8 ,  0.8 ,  0.8 ]],\n",
       "\n",
       "       [[-0.8 , -0.8 , -0.8 , ..., -0.8 , -0.8 , -0.8 ],\n",
       "        [-0.64, -0.64, -0.64, ..., -0.64, -0.64, -0.64],\n",
       "        [-0.48, -0.48, -0.48, ..., -0.48, -0.48, -0.48],\n",
       "        ...,\n",
       "        [ 0.48,  0.48,  0.48, ...,  0.48,  0.48,  0.48],\n",
       "        [ 0.64,  0.64,  0.64, ...,  0.64,  0.64,  0.64],\n",
       "        [ 0.8 ,  0.8 ,  0.8 , ...,  0.8 ,  0.8 ,  0.8 ]]])"
      ]
     },
     "execution_count": 50,
     "metadata": {},
     "output_type": "execute_result"
    }
   ],
   "source": []
  },
  {
   "cell_type": "code",
   "execution_count": null,
   "metadata": {},
   "outputs": [],
   "source": []
  }
 ],
 "metadata": {
  "kernelspec": {
   "display_name": "Python 3 (ipykernel)",
   "language": "python",
   "name": "python3"
  },
  "language_info": {
   "codemirror_mode": {
    "name": "ipython",
    "version": 3
   },
   "file_extension": ".py",
   "mimetype": "text/x-python",
   "name": "python",
   "nbconvert_exporter": "python",
   "pygments_lexer": "ipython3",
   "version": "3.8.13"
  },
  "orig_nbformat": 4,
  "vscode": {
   "interpreter": {
    "hash": "8cb552cda7ecfd99e64cfe4fb7ab13d44cb83ab0a930474b25b4ca7a84a5801e"
   }
  }
 },
 "nbformat": 4,
 "nbformat_minor": 2
}
